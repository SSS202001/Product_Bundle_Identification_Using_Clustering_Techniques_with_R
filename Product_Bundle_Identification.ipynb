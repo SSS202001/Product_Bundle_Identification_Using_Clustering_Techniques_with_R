{
 "cells": [
  {
   "cell_type": "markdown",
   "id": "cfa00b68",
   "metadata": {},
   "source": [
    "# I. Data Preprocessing "
   ]
  },
  {
   "cell_type": "markdown",
   "id": "bdb0754d",
   "metadata": {},
   "source": [
    "# 1. Load Necessary Libraries"
   ]
  },
  {
   "cell_type": "code",
   "execution_count": 35,
   "id": "d025900b",
   "metadata": {},
   "outputs": [],
   "source": [
    "# Load necessary libraries\n",
    "library(tidyverse)    # For data manipulation and visualization\n",
    "library(lubridate)    # For date manipulation (if needed)\n",
    "library(arules)       # For Market Basket Analysis\n",
    "library(cluster)      # For clustering algorithms\n",
    "library(factoextra)   # For visualizing clustering results\n",
    "library(FactoMineR)   # For PCA"
   ]
  },
  {
   "cell_type": "markdown",
   "id": "368bfe6a",
   "metadata": {},
   "source": [
    "# 2. Load and Inspect the Dataset"
   ]
  },
  {
   "cell_type": "code",
   "execution_count": 36,
   "id": "13e32fa8",
   "metadata": {},
   "outputs": [
    {
     "data": {
      "text/html": [
       "<table class=\"dataframe\">\n",
       "<caption>A data.frame: 6 × 53</caption>\n",
       "<thead>\n",
       "\t<tr><th></th><th scope=col>Product_Code</th><th scope=col>W0</th><th scope=col>W1</th><th scope=col>W2</th><th scope=col>W3</th><th scope=col>W4</th><th scope=col>W5</th><th scope=col>W6</th><th scope=col>W7</th><th scope=col>W8</th><th scope=col>⋯</th><th scope=col>W42</th><th scope=col>W43</th><th scope=col>W44</th><th scope=col>W45</th><th scope=col>W46</th><th scope=col>W47</th><th scope=col>W48</th><th scope=col>W49</th><th scope=col>W50</th><th scope=col>W51</th></tr>\n",
       "\t<tr><th></th><th scope=col>&lt;chr&gt;</th><th scope=col>&lt;int&gt;</th><th scope=col>&lt;int&gt;</th><th scope=col>&lt;int&gt;</th><th scope=col>&lt;int&gt;</th><th scope=col>&lt;int&gt;</th><th scope=col>&lt;int&gt;</th><th scope=col>&lt;int&gt;</th><th scope=col>&lt;int&gt;</th><th scope=col>&lt;int&gt;</th><th scope=col>⋯</th><th scope=col>&lt;int&gt;</th><th scope=col>&lt;int&gt;</th><th scope=col>&lt;int&gt;</th><th scope=col>&lt;int&gt;</th><th scope=col>&lt;int&gt;</th><th scope=col>&lt;int&gt;</th><th scope=col>&lt;int&gt;</th><th scope=col>&lt;int&gt;</th><th scope=col>&lt;int&gt;</th><th scope=col>&lt;int&gt;</th></tr>\n",
       "</thead>\n",
       "<tbody>\n",
       "\t<tr><th scope=row>1</th><td>P1</td><td>11</td><td>12</td><td>10</td><td> 8</td><td>13</td><td>12</td><td>14</td><td>21</td><td> 6</td><td>⋯</td><td>4</td><td> 7</td><td>8</td><td>10</td><td>12</td><td>3</td><td> 7</td><td> 6</td><td> 5</td><td>10</td></tr>\n",
       "\t<tr><th scope=row>2</th><td>P2</td><td> 7</td><td> 6</td><td> 3</td><td> 2</td><td> 7</td><td> 1</td><td> 6</td><td> 3</td><td> 3</td><td>⋯</td><td>2</td><td> 4</td><td>5</td><td> 1</td><td> 1</td><td>4</td><td> 5</td><td> 1</td><td> 6</td><td> 0</td></tr>\n",
       "\t<tr><th scope=row>3</th><td>P3</td><td> 7</td><td>11</td><td> 8</td><td> 9</td><td>10</td><td> 8</td><td> 7</td><td>13</td><td>12</td><td>⋯</td><td>6</td><td>14</td><td>5</td><td> 5</td><td> 7</td><td>8</td><td>14</td><td> 8</td><td> 8</td><td> 7</td></tr>\n",
       "\t<tr><th scope=row>4</th><td>P4</td><td>12</td><td> 8</td><td>13</td><td> 5</td><td> 9</td><td> 6</td><td> 9</td><td>13</td><td>13</td><td>⋯</td><td>9</td><td>10</td><td>3</td><td> 4</td><td> 6</td><td>8</td><td>14</td><td> 8</td><td> 7</td><td> 8</td></tr>\n",
       "\t<tr><th scope=row>5</th><td>P5</td><td> 8</td><td> 5</td><td>13</td><td>11</td><td> 6</td><td> 7</td><td> 9</td><td>14</td><td> 9</td><td>⋯</td><td>7</td><td>11</td><td>7</td><td>12</td><td> 6</td><td>6</td><td> 5</td><td>11</td><td> 8</td><td> 9</td></tr>\n",
       "\t<tr><th scope=row>6</th><td>P6</td><td> 3</td><td> 3</td><td> 2</td><td> 7</td><td> 6</td><td> 3</td><td> 8</td><td> 6</td><td> 6</td><td>⋯</td><td>4</td><td> 2</td><td>4</td><td> 3</td><td> 6</td><td>5</td><td> 3</td><td> 3</td><td>10</td><td> 6</td></tr>\n",
       "</tbody>\n",
       "</table>\n"
      ],
      "text/latex": [
       "A data.frame: 6 × 53\n",
       "\\begin{tabular}{r|lllllllllllllllllllll}\n",
       "  & Product\\_Code & W0 & W1 & W2 & W3 & W4 & W5 & W6 & W7 & W8 & ⋯ & W42 & W43 & W44 & W45 & W46 & W47 & W48 & W49 & W50 & W51\\\\\n",
       "  & <chr> & <int> & <int> & <int> & <int> & <int> & <int> & <int> & <int> & <int> & ⋯ & <int> & <int> & <int> & <int> & <int> & <int> & <int> & <int> & <int> & <int>\\\\\n",
       "\\hline\n",
       "\t1 & P1 & 11 & 12 & 10 &  8 & 13 & 12 & 14 & 21 &  6 & ⋯ & 4 &  7 & 8 & 10 & 12 & 3 &  7 &  6 &  5 & 10\\\\\n",
       "\t2 & P2 &  7 &  6 &  3 &  2 &  7 &  1 &  6 &  3 &  3 & ⋯ & 2 &  4 & 5 &  1 &  1 & 4 &  5 &  1 &  6 &  0\\\\\n",
       "\t3 & P3 &  7 & 11 &  8 &  9 & 10 &  8 &  7 & 13 & 12 & ⋯ & 6 & 14 & 5 &  5 &  7 & 8 & 14 &  8 &  8 &  7\\\\\n",
       "\t4 & P4 & 12 &  8 & 13 &  5 &  9 &  6 &  9 & 13 & 13 & ⋯ & 9 & 10 & 3 &  4 &  6 & 8 & 14 &  8 &  7 &  8\\\\\n",
       "\t5 & P5 &  8 &  5 & 13 & 11 &  6 &  7 &  9 & 14 &  9 & ⋯ & 7 & 11 & 7 & 12 &  6 & 6 &  5 & 11 &  8 &  9\\\\\n",
       "\t6 & P6 &  3 &  3 &  2 &  7 &  6 &  3 &  8 &  6 &  6 & ⋯ & 4 &  2 & 4 &  3 &  6 & 5 &  3 &  3 & 10 &  6\\\\\n",
       "\\end{tabular}\n"
      ],
      "text/markdown": [
       "\n",
       "A data.frame: 6 × 53\n",
       "\n",
       "| <!--/--> | Product_Code &lt;chr&gt; | W0 &lt;int&gt; | W1 &lt;int&gt; | W2 &lt;int&gt; | W3 &lt;int&gt; | W4 &lt;int&gt; | W5 &lt;int&gt; | W6 &lt;int&gt; | W7 &lt;int&gt; | W8 &lt;int&gt; | ⋯ ⋯ | W42 &lt;int&gt; | W43 &lt;int&gt; | W44 &lt;int&gt; | W45 &lt;int&gt; | W46 &lt;int&gt; | W47 &lt;int&gt; | W48 &lt;int&gt; | W49 &lt;int&gt; | W50 &lt;int&gt; | W51 &lt;int&gt; |\n",
       "|---|---|---|---|---|---|---|---|---|---|---|---|---|---|---|---|---|---|---|---|---|---|\n",
       "| 1 | P1 | 11 | 12 | 10 |  8 | 13 | 12 | 14 | 21 |  6 | ⋯ | 4 |  7 | 8 | 10 | 12 | 3 |  7 |  6 |  5 | 10 |\n",
       "| 2 | P2 |  7 |  6 |  3 |  2 |  7 |  1 |  6 |  3 |  3 | ⋯ | 2 |  4 | 5 |  1 |  1 | 4 |  5 |  1 |  6 |  0 |\n",
       "| 3 | P3 |  7 | 11 |  8 |  9 | 10 |  8 |  7 | 13 | 12 | ⋯ | 6 | 14 | 5 |  5 |  7 | 8 | 14 |  8 |  8 |  7 |\n",
       "| 4 | P4 | 12 |  8 | 13 |  5 |  9 |  6 |  9 | 13 | 13 | ⋯ | 9 | 10 | 3 |  4 |  6 | 8 | 14 |  8 |  7 |  8 |\n",
       "| 5 | P5 |  8 |  5 | 13 | 11 |  6 |  7 |  9 | 14 |  9 | ⋯ | 7 | 11 | 7 | 12 |  6 | 6 |  5 | 11 |  8 |  9 |\n",
       "| 6 | P6 |  3 |  3 |  2 |  7 |  6 |  3 |  8 |  6 |  6 | ⋯ | 4 |  2 | 4 |  3 |  6 | 5 |  3 |  3 | 10 |  6 |\n",
       "\n"
      ],
      "text/plain": [
       "  Product_Code W0 W1 W2 W3 W4 W5 W6 W7 W8 ⋯ W42 W43 W44 W45 W46 W47 W48 W49 W50\n",
       "1 P1           11 12 10  8 13 12 14 21  6 ⋯ 4    7  8   10  12  3    7   6   5 \n",
       "2 P2            7  6  3  2  7  1  6  3  3 ⋯ 2    4  5    1   1  4    5   1   6 \n",
       "3 P3            7 11  8  9 10  8  7 13 12 ⋯ 6   14  5    5   7  8   14   8   8 \n",
       "4 P4           12  8 13  5  9  6  9 13 13 ⋯ 9   10  3    4   6  8   14   8   7 \n",
       "5 P5            8  5 13 11  6  7  9 14  9 ⋯ 7   11  7   12   6  6    5  11   8 \n",
       "6 P6            3  3  2  7  6  3  8  6  6 ⋯ 4    2  4    3   6  5    3   3  10 \n",
       "  W51\n",
       "1 10 \n",
       "2  0 \n",
       "3  7 \n",
       "4  8 \n",
       "5  9 \n",
       "6  6 "
      ]
     },
     "metadata": {},
     "output_type": "display_data"
    },
    {
     "data": {
      "text/plain": [
       " Product_Code             W0               W1               W2       \n",
       " Length:811         Min.   : 0.000   Min.   : 0.000   Min.   : 0.00  \n",
       " Class :character   1st Qu.: 0.000   1st Qu.: 0.000   1st Qu.: 0.00  \n",
       " Mode  :character   Median : 3.000   Median : 3.000   Median : 3.00  \n",
       "                    Mean   : 8.903   Mean   : 9.129   Mean   : 9.39  \n",
       "                    3rd Qu.:12.000   3rd Qu.:12.000   3rd Qu.:12.00  \n",
       "                    Max.   :54.000   Max.   :53.000   Max.   :56.00  \n",
       "       W3               W4               W5               W6       \n",
       " Min.   : 0.000   Min.   : 0.000   Min.   : 0.000   Min.   : 0.00  \n",
       " 1st Qu.: 0.000   1st Qu.: 0.000   1st Qu.: 0.000   1st Qu.: 0.00  \n",
       " Median : 4.000   Median : 4.000   Median : 3.000   Median : 4.00  \n",
       " Mean   : 9.718   Mean   : 9.575   Mean   : 9.466   Mean   : 9.72  \n",
       " 3rd Qu.:13.000   3rd Qu.:13.000   3rd Qu.:12.500   3rd Qu.:13.00  \n",
       " Max.   :59.000   Max.   :61.000   Max.   :52.000   Max.   :56.00  \n",
       "       W7               W8               W9              W10       \n",
       " Min.   : 0.000   Min.   : 0.000   Min.   : 0.000   Min.   : 0.00  \n",
       " 1st Qu.: 0.000   1st Qu.: 0.000   1st Qu.: 0.000   1st Qu.: 0.00  \n",
       " Median : 4.000   Median : 4.000   Median : 4.000   Median : 4.00  \n",
       " Mean   : 9.586   Mean   : 9.784   Mean   : 9.682   Mean   : 9.79  \n",
       " 3rd Qu.:12.500   3rd Qu.:13.000   3rd Qu.:13.000   3rd Qu.:13.00  \n",
       " Max.   :62.000   Max.   :63.000   Max.   :52.000   Max.   :56.00  \n",
       "      W11              W12              W13              W14        \n",
       " Min.   : 0.000   Min.   : 0.000   Min.   : 0.000   Min.   : 0.000  \n",
       " 1st Qu.: 0.000   1st Qu.: 0.000   1st Qu.: 0.000   1st Qu.: 0.000  \n",
       " Median : 4.000   Median : 3.000   Median : 4.000   Median : 4.000  \n",
       " Mean   : 9.678   Mean   : 9.827   Mean   : 9.687   Mean   : 9.908  \n",
       " 3rd Qu.:13.000   3rd Qu.:13.000   3rd Qu.:13.000   3rd Qu.:13.000  \n",
       " Max.   :57.000   Max.   :61.000   Max.   :55.000   Max.   :57.000  \n",
       "      W15             W16             W17              W18       \n",
       " Min.   : 0.00   Min.   : 0.00   Min.   : 0.000   Min.   : 0.00  \n",
       " 1st Qu.: 0.00   1st Qu.: 0.00   1st Qu.: 0.000   1st Qu.: 0.00  \n",
       " Median : 4.00   Median : 4.00   Median : 4.000   Median : 4.00  \n",
       " Mean   :10.05   Mean   :10.03   Mean   : 9.905   Mean   :10.01  \n",
       " 3rd Qu.:14.00   3rd Qu.:13.00   3rd Qu.:13.000   3rd Qu.:13.00  \n",
       " Max.   :59.00   Max.   :62.00   Max.   :67.000   Max.   :57.00  \n",
       "      W19              W20             W21             W22        \n",
       " Min.   : 0.000   Min.   : 0.00   Min.   : 0.00   Min.   : 0.000  \n",
       " 1st Qu.: 0.000   1st Qu.: 0.00   1st Qu.: 0.00   1st Qu.: 0.000  \n",
       " Median : 4.000   Median : 4.00   Median : 4.00   Median : 4.000  \n",
       " Mean   : 9.645   Mean   : 9.85   Mean   : 9.71   Mean   : 9.903  \n",
       " 3rd Qu.:13.000   3rd Qu.:13.00   3rd Qu.:13.00   3rd Qu.:13.000  \n",
       " Max.   :56.000   Max.   :64.00   Max.   :58.00   Max.   :51.000  \n",
       "      W23              W24             W25              W26        \n",
       " Min.   : 0.000   Min.   : 0.00   Min.   : 0.000   Min.   : 0.000  \n",
       " 1st Qu.: 0.000   1st Qu.: 1.00   1st Qu.: 1.000   1st Qu.: 0.000  \n",
       " Median : 4.000   Median : 5.00   Median : 5.000   Median : 3.000  \n",
       " Mean   : 9.862   Mean   :10.17   Mean   : 8.893   Mean   : 6.951  \n",
       " 3rd Qu.:14.000   3rd Qu.:16.00   3rd Qu.:15.000   3rd Qu.: 9.000  \n",
       " Max.   :72.000   Max.   :64.00   Max.   :64.000   Max.   :46.000  \n",
       "      W27              W28              W29              W30        \n",
       " Min.   : 0.000   Min.   : 0.000   Min.   : 0.000   Min.   : 0.000  \n",
       " 1st Qu.: 0.000   1st Qu.: 0.000   1st Qu.: 0.000   1st Qu.: 0.000  \n",
       " Median : 3.000   Median : 3.000   Median : 3.000   Median : 3.000  \n",
       " Mean   : 7.194   Mean   : 7.383   Mean   : 7.339   Mean   : 7.608  \n",
       " 3rd Qu.:10.000   3rd Qu.: 9.000   3rd Qu.:10.000   3rd Qu.:10.000  \n",
       " Max.   :47.000   Max.   :44.000   Max.   :42.000   Max.   :48.000  \n",
       "      W31             W32             W33              W34        \n",
       " Min.   : 0.00   Min.   : 0.00   Min.   : 0.000   Min.   : 0.000  \n",
       " 1st Qu.: 0.00   1st Qu.: 0.00   1st Qu.: 0.000   1st Qu.: 0.000  \n",
       " Median : 3.00   Median : 3.00   Median : 3.000   Median : 3.000  \n",
       " Mean   : 7.61   Mean   : 7.76   Mean   : 7.906   Mean   : 7.993  \n",
       " 3rd Qu.:10.00   3rd Qu.:10.00   3rd Qu.:10.000   3rd Qu.:10.500  \n",
       " Max.   :47.00   Max.   :49.00   Max.   :46.000   Max.   :46.000  \n",
       "      W35              W36              W37              W38        \n",
       " Min.   : 0.000   Min.   : 0.000   Min.   : 0.000   Min.   : 0.000  \n",
       " 1st Qu.: 0.000   1st Qu.: 0.000   1st Qu.: 0.000   1st Qu.: 0.000  \n",
       " Median : 3.000   Median : 3.000   Median : 3.000   Median : 3.000  \n",
       " Mean   : 7.998   Mean   : 8.015   Mean   : 8.074   Mean   : 8.252  \n",
       " 3rd Qu.:10.000   3rd Qu.:10.000   3rd Qu.:11.000   3rd Qu.:11.000  \n",
       " Max.   :46.000   Max.   :55.000   Max.   :47.000   Max.   :52.000  \n",
       "      W39              W40              W41             W42        \n",
       " Min.   : 0.000   Min.   : 0.000   Min.   : 0.00   Min.   : 0.000  \n",
       " 1st Qu.: 0.000   1st Qu.: 0.000   1st Qu.: 0.00   1st Qu.: 0.000  \n",
       " Median : 3.000   Median : 4.000   Median : 3.00   Median : 4.000  \n",
       " Mean   : 7.965   Mean   : 8.182   Mean   : 8.24   Mean   : 8.395  \n",
       " 3rd Qu.:10.000   3rd Qu.:10.000   3rd Qu.:11.00   3rd Qu.:10.000  \n",
       " Max.   :47.000   Max.   :48.000   Max.   :50.00   Max.   :52.000  \n",
       "      W43              W44              W45              W46       \n",
       " Min.   : 0.000   Min.   : 0.000   Min.   : 0.000   Min.   : 0.00  \n",
       " 1st Qu.: 0.000   1st Qu.: 0.000   1st Qu.: 1.000   1st Qu.: 1.00  \n",
       " Median : 4.000   Median : 4.000   Median : 4.000   Median : 4.00  \n",
       " Mean   : 8.318   Mean   : 8.434   Mean   : 8.556   Mean   : 8.72  \n",
       " 3rd Qu.:11.000   3rd Qu.:11.000   3rd Qu.:11.000   3rd Qu.:11.00  \n",
       " Max.   :50.000   Max.   :46.000   Max.   :46.000   Max.   :55.00  \n",
       "      W47              W48              W49              W50        \n",
       " Min.   : 0.000   Min.   : 0.000   Min.   : 0.000   Min.   : 0.000  \n",
       " 1st Qu.: 0.000   1st Qu.: 1.000   1st Qu.: 1.000   1st Qu.: 1.000  \n",
       " Median : 4.000   Median : 4.000   Median : 4.000   Median : 5.000  \n",
       " Mean   : 8.671   Mean   : 8.674   Mean   : 8.895   Mean   : 8.862  \n",
       " 3rd Qu.:12.000   3rd Qu.:12.000   3rd Qu.:12.000   3rd Qu.:13.000  \n",
       " Max.   :49.000   Max.   :50.000   Max.   :52.000   Max.   :57.000  \n",
       "      W51        \n",
       " Min.   : 0.000  \n",
       " 1st Qu.: 1.000  \n",
       " Median : 5.000  \n",
       " Mean   : 8.889  \n",
       " 3rd Qu.:14.000  \n",
       " Max.   :73.000  "
      ]
     },
     "metadata": {},
     "output_type": "display_data"
    }
   ],
   "source": [
    "# Load the dataset (replace the path with your actual file path)\n",
    "data <- read.csv(\"E:/Projects/R/Sales_Transactions_Dataset_Weekly - Copy.csv\")\n",
    "\n",
    "# Display the first few rows of the dataset\n",
    "head(data)\n",
    "\n",
    "# Perform EDA (Exploratory Data Analysis)\n",
    "summary(data)"
   ]
  },
  {
   "cell_type": "markdown",
   "id": "9e76c23f",
   "metadata": {},
   "source": [
    "# 3. Data Preparation"
   ]
  },
  {
   "cell_type": "code",
   "execution_count": 37,
   "id": "5a08339a",
   "metadata": {},
   "outputs": [],
   "source": [
    "# Convert data to a data frame\n",
    "data_df <- as.data.frame(data)\n",
    "\n",
    "# Function to detect and remove outliers based on Z-score\n",
    "remove_outliers <- function(x, threshold = 4) {\n",
    "  if (is.numeric(x)) {\n",
    "    outlier_indices <- which(abs(scale(x)) > threshold)\n",
    "    x[outlier_indices] <- NA  # Mark outliers as NA\n",
    "  }\n",
    "  return(x)\n",
    "}\n",
    "\n",
    "# Identify numeric columns (excluding Product_Code)\n",
    "numeric_cols <- sapply(data_df, is.numeric)\n",
    "\n",
    "# Remove outliers from numeric columns\n",
    "data_df[, numeric_cols] <- lapply(data_df[, numeric_cols], remove_outliers)\n",
    "\n",
    "# Normalize the data\n",
    "data_df[, numeric_cols] <- scale(data_df[, numeric_cols])"
   ]
  },
  {
   "cell_type": "markdown",
   "id": "d1c40daa",
   "metadata": {},
   "source": [
    "# 4. Prepare Data for PCA"
   ]
  },
  {
   "cell_type": "code",
   "execution_count": 38,
   "id": "b725f2e4",
   "metadata": {},
   "outputs": [
    {
     "name": "stdout",
     "output_type": "stream",
     "text": [
      "[1] \"P1\" \"P2\" \"P3\" \"P4\" \"P5\" \"P6\"\n",
      "[1] 811  52\n"
     ]
    }
   ],
   "source": [
    "# Ensure Product_Code is treated as row names\n",
    "data_df <- data_df %>% column_to_rownames(var = \"Product_Code\")\n",
    "\n",
    "# Convert to matrix for PCA\n",
    "data_matrix <- as.matrix(data_df)\n",
    "\n",
    "# Check if row names are correctly set\n",
    "print(head(rownames(data_matrix)))\n",
    "print(dim(data_matrix))"
   ]
  },
  {
   "cell_type": "markdown",
   "id": "97f9549b",
   "metadata": {},
   "source": [
    "# 5. Apply PCA"
   ]
  },
  {
   "cell_type": "code",
   "execution_count": 39,
   "id": "e943c8b1",
   "metadata": {},
   "outputs": [
    {
     "name": "stderr",
     "output_type": "stream",
     "text": [
      "Warning message in PCA(data_matrix, scale.unit = TRUE, ncp = 2, graph = FALSE):\n",
      "\"Missing values are imputed by the mean of the variable: you should use the imputePCA function of the missMDA package\"\n"
     ]
    }
   ],
   "source": [
    "# Apply PCA\n",
    "pca <- PCA(data_matrix, scale.unit = TRUE, ncp = 2, graph = FALSE)\n",
    "\n",
    "# Use PCA scores for clustering\n",
    "pca_scores <- pca$ind$coord"
   ]
  },
  {
   "cell_type": "markdown",
   "id": "32015d47",
   "metadata": {},
   "source": [
    "# 6. Compute Silhouette Width"
   ]
  },
  {
   "cell_type": "code",
   "execution_count": 40,
   "id": "557e0816",
   "metadata": {},
   "outputs": [],
   "source": [
    "# Function to compute silhouette width\n",
    "compute_silhouette <- function(pca_scores, clusters) {\n",
    "  require(cluster)\n",
    "  silhouette_info <- silhouette(clusters, dist(pca_scores))\n",
    "  avg_silhouette_width <- mean(silhouette_info[, 3])\n",
    "  return(avg_silhouette_width)\n",
    "}"
   ]
  },
  {
   "cell_type": "markdown",
   "id": "20297db3",
   "metadata": {},
   "source": [
    "# II. K-means Clustering"
   ]
  },
  {
   "cell_type": "markdown",
   "id": "6e5a05d8",
   "metadata": {},
   "source": [
    "### Determine the Optimal Number of Clusters"
   ]
  },
  {
   "cell_type": "code",
   "execution_count": 7,
   "id": "ce446f6e",
   "metadata": {},
   "outputs": [
    {
     "data": {
      "image/png": "[encoded data removed]",
      "text/plain": [
       "plot without title"
      ]
     },
     "metadata": {
      "image/png": {
       "height": 420,
       "width": 420
      }
     },
     "output_type": "display_data"
    }
   ],
   "source": [
    "# Determine the optimal number of clusters using the Elbow method\n",
    "wss <- (nrow(pca_scores) - 1) * sum(apply(pca_scores, 2, var))\n",
    "for (i in 2:15) wss[i] <- sum(kmeans(pca_scores, centers = i, nstart = 20)$tot.withinss)\n",
    "\n",
    "# Plot the Elbow method result\n",
    "plot(1:15, wss, type = \"b\", pch = 19, frame = FALSE, xlab = \"Number of clusters K\", ylab = \"Total within-clusters sum of squares\")"
   ]
  },
  {
   "cell_type": "code",
   "execution_count": 8,
   "id": "ec693a6c",
   "metadata": {},
   "outputs": [],
   "source": [
    "# Set the optimal number of clusters (example: K = 3 based on the Elbow method)\n",
    "optimal_k <- 3\n",
    "\n",
    "# Apply k-means clustering\n",
    "set.seed(123)\n",
    "kmeans_result <- kmeans(pca_scores, centers = optimal_k, nstart = 50, iter.max = 500)\n",
    "\n",
    "# Get the clusters\n",
    "clusters <- kmeans_result$cluster"
   ]
  },
  {
   "cell_type": "markdown",
   "id": "8cca695b",
   "metadata": {},
   "source": [
    "### Evaluate Clustering Quality"
   ]
  },
  {
   "cell_type": "code",
   "execution_count": 9,
   "id": "27d954e8",
   "metadata": {},
   "outputs": [
    {
     "name": "stdout",
     "output_type": "stream",
     "text": [
      "[1] \"Average Silhouette Width:  0.741987822365957\"\n",
      "  cluster size ave.sil.width\n",
      "1       1  197          0.58\n",
      "2       2  490          0.78\n",
      "3       3  124          0.86\n"
     ]
    },
    {
     "data": {
      "image/png": "[encoded data removed]",
      "text/plain": [
       "plot without title"
      ]
     },
     "metadata": {
      "image/png": {
       "height": 420,
       "width": 420
      }
     },
     "output_type": "display_data"
    }
   ],
   "source": [
    "# Evaluate Clustering Quality\n",
    "\n",
    "# Compute silhouette width\n",
    "avg_silhouette_width <- compute_silhouette(pca_scores, clusters)\n",
    "print(paste(\"Average Silhouette Width: \", avg_silhouette_width))\n",
    "\n",
    "# Visualize the silhouette plot\n",
    "fviz_silhouette(silhouette(clusters, dist(pca_scores)))"
   ]
  },
  {
   "cell_type": "code",
   "execution_count": 10,
   "id": "93a7df2b",
   "metadata": {},
   "outputs": [
    {
     "data": {
      "image/png": "[encoded data removed]",
      "text/plain": [
       "plot without title"
      ]
     },
     "metadata": {
      "image/png": {
       "height": 420,
       "width": 420
      }
     },
     "output_type": "display_data"
    }
   ],
   "source": [
    "# Plot the clusters\n",
    "fviz_cluster(list(data = pca_scores, cluster = clusters), geom = \"point\", stand = FALSE)"
   ]
  },
  {
   "cell_type": "markdown",
   "id": "dcb08da9",
   "metadata": {},
   "source": [
    "# III. Hierarchical Clustering Algorithm"
   ]
  },
  {
   "cell_type": "code",
   "execution_count": 86,
   "id": "c95acb9e",
   "metadata": {},
   "outputs": [
    {
     "data": {
      "image/png": "[encoded data removed]",
      "text/plain": [
       "Plot with title \"Dendrogram of Hierarchical Clustering\""
      ]
     },
     "metadata": {
      "image/png": {
       "height": 420,
       "width": 420
      }
     },
     "output_type": "display_data"
    }
   ],
   "source": [
    "# Perform hierarchical clustering\n",
    "hc_result <- hclust(dist(pca_scores))\n",
    "\n",
    "# Visualize the dendrogram to aid threshold selection\n",
    "plot(hc_result, hang = -1, main = \"Dendrogram of Hierarchical Clustering\")"
   ]
  },
  {
   "cell_type": "code",
   "execution_count": 87,
   "id": "2809b9df",
   "metadata": {},
   "outputs": [],
   "source": [
    "# Setting the maximum distance threshold based on a graph where the threshold \n",
    "# is the height of the vertical line without intersecting the horizontal line.\n",
    "max_dist_threshold <- 15  \n",
    "\n",
    "# Cut the dendrogram using the selected maximum distance threshold\n",
    "clusters_hc_maxdist <- cutree(hc_result, h = max_dist_threshold)"
   ]
  },
  {
   "cell_type": "markdown",
   "id": "5450477c",
   "metadata": {},
   "source": [
    "### Evaluate Clustering Quality"
   ]
  },
  {
   "cell_type": "code",
   "execution_count": 88,
   "id": "e93781e4",
   "metadata": {},
   "outputs": [
    {
     "name": "stdout",
     "output_type": "stream",
     "text": [
      "[1] \"Hierarchical Clustering (Max Distance) Average Silhouette Width:  0.774054126174685\"\n",
      "  cluster size ave.sil.width\n",
      "1       1  646          0.82\n",
      "2       2  165          0.61\n"
     ]
    },
    {
     "data": {
      "image/png": "[encoded data removed]",
      "text/plain": [
       "plot without title"
      ]
     },
     "metadata": {
      "image/png": {
       "height": 420,
       "width": 420
      }
     },
     "output_type": "display_data"
    }
   ],
   "source": [
    "# Evaluate clustering quality with silhouette width\n",
    "avg_silhouette_width_hc_maxdist <- compute_silhouette(pca_scores, clusters_hc_maxdist)\n",
    "print(paste(\"Hierarchical Clustering (Max Distance) Average Silhouette Width: \", avg_silhouette_width_hc_maxdist))\n",
    "\n",
    "# Visualize silhouette plot for maximum distance criterion\n",
    "fviz_silhouette(silhouette(clusters_hc_maxdist, dist(pca_scores)))"
   ]
  },
  {
   "cell_type": "code",
   "execution_count": 89,
   "id": "87db0e6b",
   "metadata": {},
   "outputs": [
    {
     "data": {
      "image/png": "[encoded data removed]",
      "text/plain": [
       "plot without title"
      ]
     },
     "metadata": {
      "image/png": {
       "height": 420,
       "width": 420
      }
     },
     "output_type": "display_data"
    }
   ],
   "source": [
    "# Plot the clusters\n",
    "fviz_cluster(list(data = pca_scores, cluster = clusters_hc_maxdist), geom = \"point\", stand = FALSE)"
   ]
  },
  {
   "cell_type": "markdown",
   "id": "6f3c6df3",
   "metadata": {},
   "source": [
    "# IV. DBSCAN Algorithm"
   ]
  },
  {
   "cell_type": "code",
   "execution_count": 90,
   "id": "83242a57",
   "metadata": {},
   "outputs": [],
   "source": [
    "# DBSCAN Algorithm\n",
    "\n",
    "library(dbscan)"
   ]
  },
  {
   "cell_type": "code",
   "execution_count": 91,
   "id": "7a492eb7",
   "metadata": {},
   "outputs": [],
   "source": [
    "# Perform DBSCAN clustering\n",
    "dbscan_result <- dbscan(pca_scores, eps = 0.5, minPts = 10)\n",
    "\n",
    "# Get clusters\n",
    "clusters_db <- dbscan_result$cluster\n",
    "\n",
    "# Handle noise points (cluster = 0)\n",
    "clusters_db[clusters_db == 0] <- max(clusters_db) + 1"
   ]
  },
  {
   "cell_type": "code",
   "execution_count": 92,
   "id": "b98d74ab",
   "metadata": {},
   "outputs": [],
   "source": [
    "# Identify useful clusters (e.g., clusters 1, 2, and 3)\n",
    "useful_clusters <- c(1, 2, 3)\n",
    "\n",
    "# Replace non-useful clusters with NA\n",
    "clusters_db[!clusters_db %in% useful_clusters] <- NA"
   ]
  },
  {
   "cell_type": "markdown",
   "id": "3f080caf",
   "metadata": {},
   "source": [
    "### Evaluate Clustering Quality"
   ]
  },
  {
   "cell_type": "code",
   "execution_count": 93,
   "id": "a792bbd5",
   "metadata": {},
   "outputs": [
    {
     "name": "stdout",
     "output_type": "stream",
     "text": [
      "[1] \"DBSCAN Average Silhouette Width:  0.760330785441929\"\n",
      "  cluster size ave.sil.width\n",
      "1       1  144          0.78\n",
      "2       2  490          0.72\n",
      "3       3  110          0.90\n"
     ]
    },
    {
     "data": {
      "image/png": "[encoded data removed]",
      "text/plain": [
       "plot without title"
      ]
     },
     "metadata": {
      "image/png": {
       "height": 420,
       "width": 420
      }
     },
     "output_type": "display_data"
    }
   ],
   "source": [
    "# Evaluate clustering quality with silhouette width (only for useful clusters)\n",
    "valid_indices <- !is.na(clusters_db)\n",
    "avg_silhouette_width_db <- compute_silhouette(pca_scores[valid_indices, ], clusters_db[valid_indices])\n",
    "print(paste(\"DBSCAN Average Silhouette Width: \", avg_silhouette_width_db))\n",
    "\n",
    "# Visualize silhouette plot\n",
    "fviz_silhouette(silhouette(clusters_db[valid_indices], dist(pca_scores[valid_indices, ])))"
   ]
  },
  {
   "cell_type": "code",
   "execution_count": 94,
   "id": "bcd9da8c",
   "metadata": {},
   "outputs": [
    {
     "data": {
      "image/png": "[encoded data removed]",
      "text/plain": [
       "plot without title"
      ]
     },
     "metadata": {
      "image/png": {
       "height": 420,
       "width": 420
      }
     },
     "output_type": "display_data"
    }
   ],
   "source": [
    "# Plot the clusters\n",
    "# Only include points in useful clusters in the visualization\n",
    "fviz_cluster(list(data = pca_scores[valid_indices, ], cluster = clusters_db[valid_indices]), geom = \"point\", stand = FALSE)"
   ]
  },
  {
   "cell_type": "markdown",
   "id": "fee77af4",
   "metadata": {},
   "source": [
    "# V. Save information about clusters"
   ]
  },
  {
   "cell_type": "code",
   "execution_count": 95,
   "id": "af1baef7",
   "metadata": {},
   "outputs": [],
   "source": [
    "# DBSCAN algorithm is selected as final model as it provides better performance\n",
    "# Add cluster information to data_df\n",
    "data_df$Cluster <- clusters_db"
   ]
  },
  {
   "cell_type": "code",
   "execution_count": 74,
   "id": "8c455c2a",
   "metadata": {},
   "outputs": [],
   "source": [
    "# Subset data_df to include Product_Code (as row names) and Cluster columns\n",
    "data_subset <- data.frame(Product_Code = rownames(data_df), Cluster = data_df$Cluster)"
   ]
  },
  {
   "cell_type": "code",
   "execution_count": 75,
   "id": "99d3e300",
   "metadata": {},
   "outputs": [],
   "source": [
    "# Save the subset to a CSV file with a valid file path\n",
    "write.csv(data_subset, file = \"clustered_product_clusters.csv\", row.names = FALSE)"
   ]
  }
 ],
 "metadata": {
  "kernelspec": {
   "display_name": "R",
   "language": "R",
   "name": "ir"
  },
  "language_info": {
   "codemirror_mode": "r",
   "file_extension": ".r",
   "mimetype": "text/x-r-source",
   "name": "R",
   "pygments_lexer": "r",
   "version": "4.4.1"
  }
 },
 "nbformat": 4,
 "nbformat_minor": 5
}
